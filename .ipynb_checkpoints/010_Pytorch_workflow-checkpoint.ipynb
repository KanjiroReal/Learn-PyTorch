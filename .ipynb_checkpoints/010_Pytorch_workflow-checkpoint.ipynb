{
 "cells": [
  {
   "cell_type": "code",
   "execution_count": 1,
   "outputs": [
    {
     "name": "stdout",
     "output_type": "stream",
     "text": [
      "1 : data (preparing and loading)\n",
      "2 : Build model\n",
      "3 : Fitting the model to data (training)\n",
      "4 : Make predict and eval (inference)\n",
      "5 : saving and loading\n",
      "6 : Putting it all together\n"
     ]
    }
   ],
   "source": [
    "what_covering = {\n",
    "    1:\"data (preparing and loading)\",\n",
    "    2:\"Build model\",\n",
    "    3:\"Fitting the model to data (training)\",\n",
    "    4:\"Make predict and eval (inference)\",\n",
    "    5:\"saving and loading\",\n",
    "    6:\"Putting it all together\"\n",
    "}\n",
    "\n",
    "for key in what_covering:\n",
    "    print(key, \":\" ,what_covering[key])"
   ],
   "metadata": {
    "collapsed": false,
    "ExecuteTime": {
     "end_time": "2024-02-26T01:53:58.659321100Z",
     "start_time": "2024-02-26T01:53:51.447403500Z"
    }
   },
   "id": "89cd5329860c27b"
  },
  {
   "cell_type": "code",
   "execution_count": 2,
   "outputs": [
    {
     "data": {
      "text/plain": "'2.1.2+cpu'"
     },
     "execution_count": 2,
     "metadata": {},
     "output_type": "execute_result"
    }
   ],
   "source": [
    "import torch as t\n",
    "from torch import nn # nn contain all of Pytorch building blocks  for neural network\n",
    "import matplotlib.pyplot as plt\n",
    "t.__version__"
   ],
   "metadata": {
    "collapsed": false,
    "ExecuteTime": {
     "end_time": "2024-02-26T01:53:58.660498500Z",
     "start_time": "2024-02-26T01:53:51.459634600Z"
    }
   },
   "id": "8b2272f9f056def7"
  },
  {
   "cell_type": "code",
   "execution_count": 3,
   "outputs": [
    {
     "data": {
      "text/plain": "['AdaptiveAvgPool1d',\n 'AdaptiveAvgPool2d',\n 'AdaptiveAvgPool3d',\n 'AdaptiveLogSoftmaxWithLoss',\n 'AdaptiveMaxPool1d',\n 'AdaptiveMaxPool2d',\n 'AdaptiveMaxPool3d',\n 'AlphaDropout',\n 'AvgPool1d',\n 'AvgPool2d',\n 'AvgPool3d',\n 'BCELoss',\n 'BCEWithLogitsLoss',\n 'BatchNorm1d',\n 'BatchNorm2d',\n 'BatchNorm3d',\n 'Bilinear',\n 'CELU',\n 'CTCLoss',\n 'ChannelShuffle',\n 'CircularPad1d',\n 'CircularPad2d',\n 'CircularPad3d',\n 'ConstantPad1d',\n 'ConstantPad2d',\n 'ConstantPad3d',\n 'Container',\n 'Conv1d',\n 'Conv2d',\n 'Conv3d',\n 'ConvTranspose1d',\n 'ConvTranspose2d',\n 'ConvTranspose3d',\n 'CosineEmbeddingLoss',\n 'CosineSimilarity',\n 'CrossEntropyLoss',\n 'CrossMapLRN2d',\n 'DataParallel',\n 'Dropout',\n 'Dropout1d',\n 'Dropout2d',\n 'Dropout3d',\n 'ELU',\n 'Embedding',\n 'EmbeddingBag',\n 'FeatureAlphaDropout',\n 'Flatten',\n 'Fold',\n 'FractionalMaxPool2d',\n 'FractionalMaxPool3d',\n 'GELU',\n 'GLU',\n 'GRU',\n 'GRUCell',\n 'GaussianNLLLoss',\n 'GroupNorm',\n 'Hardshrink',\n 'Hardsigmoid',\n 'Hardswish',\n 'Hardtanh',\n 'HingeEmbeddingLoss',\n 'HuberLoss',\n 'Identity',\n 'InstanceNorm1d',\n 'InstanceNorm2d',\n 'InstanceNorm3d',\n 'KLDivLoss',\n 'L1Loss',\n 'LPPool1d',\n 'LPPool2d',\n 'LSTM',\n 'LSTMCell',\n 'LayerNorm',\n 'LazyBatchNorm1d',\n 'LazyBatchNorm2d',\n 'LazyBatchNorm3d',\n 'LazyConv1d',\n 'LazyConv2d',\n 'LazyConv3d',\n 'LazyConvTranspose1d',\n 'LazyConvTranspose2d',\n 'LazyConvTranspose3d',\n 'LazyInstanceNorm1d',\n 'LazyInstanceNorm2d',\n 'LazyInstanceNorm3d',\n 'LazyLinear',\n 'LeakyReLU',\n 'Linear',\n 'LocalResponseNorm',\n 'LogSigmoid',\n 'LogSoftmax',\n 'MSELoss',\n 'MarginRankingLoss',\n 'MaxPool1d',\n 'MaxPool2d',\n 'MaxPool3d',\n 'MaxUnpool1d',\n 'MaxUnpool2d',\n 'MaxUnpool3d',\n 'Mish',\n 'Module',\n 'ModuleDict',\n 'ModuleList',\n 'MultiLabelMarginLoss',\n 'MultiLabelSoftMarginLoss',\n 'MultiMarginLoss',\n 'MultiheadAttention',\n 'NLLLoss',\n 'NLLLoss2d',\n 'PReLU',\n 'PairwiseDistance',\n 'Parameter',\n 'ParameterDict',\n 'ParameterList',\n 'PixelShuffle',\n 'PixelUnshuffle',\n 'PoissonNLLLoss',\n 'RNN',\n 'RNNBase',\n 'RNNCell',\n 'RNNCellBase',\n 'RReLU',\n 'ReLU',\n 'ReLU6',\n 'ReflectionPad1d',\n 'ReflectionPad2d',\n 'ReflectionPad3d',\n 'ReplicationPad1d',\n 'ReplicationPad2d',\n 'ReplicationPad3d',\n 'SELU',\n 'Sequential',\n 'SiLU',\n 'Sigmoid',\n 'SmoothL1Loss',\n 'SoftMarginLoss',\n 'Softmax',\n 'Softmax2d',\n 'Softmin',\n 'Softplus',\n 'Softshrink',\n 'Softsign',\n 'SyncBatchNorm',\n 'Tanh',\n 'Tanhshrink',\n 'Threshold',\n 'Transformer',\n 'TransformerDecoder',\n 'TransformerDecoderLayer',\n 'TransformerEncoder',\n 'TransformerEncoderLayer',\n 'TripletMarginLoss',\n 'TripletMarginWithDistanceLoss',\n 'Unflatten',\n 'Unfold',\n 'UninitializedBuffer',\n 'UninitializedParameter',\n 'Upsample',\n 'UpsamplingBilinear2d',\n 'UpsamplingNearest2d',\n 'ZeroPad1d',\n 'ZeroPad2d',\n 'ZeroPad3d',\n '__builtins__',\n '__cached__',\n '__doc__',\n '__file__',\n '__loader__',\n '__name__',\n '__package__',\n '__path__',\n '__spec__',\n '_reduction',\n 'common_types',\n 'factory_kwargs',\n 'functional',\n 'grad',\n 'init',\n 'intrinsic',\n 'modules',\n 'parallel',\n 'parameter',\n 'qat',\n 'quantizable',\n 'quantized',\n 'utils']"
     },
     "execution_count": 3,
     "metadata": {},
     "output_type": "execute_result"
    }
   ],
   "source": [
    "dir(nn)"
   ],
   "metadata": {
    "collapsed": false,
    "ExecuteTime": {
     "end_time": "2024-02-26T01:53:58.661804900Z",
     "start_time": "2024-02-26T01:53:57.417368500Z"
    }
   },
   "id": "f2ca3f35b537a9dc"
  },
  {
   "cell_type": "markdown",
   "source": [
    "## 1. Data preparing and loading\n",
    "* Excel spreadsheet\n",
    "* Images of any kind\n",
    "* Videos\n",
    "* Audio\n",
    "* DNA \n",
    "* Text\n",
    "\n",
    "## Machine learning is a game of two parts\n",
    "\n",
    "1. Get data into numerical representation\n",
    "2. Build a model to learn patterns in that numerical representation.\n",
    "\n",
    "To showcase this, let's create some *known* data using the linear regression formula.\n",
    "We'll use a linear regression formula to make a straight line with *known* parameters\n"
   ],
   "metadata": {
    "collapsed": false
   },
   "id": "161c3534b064ca3c"
  },
  {
   "cell_type": "code",
   "execution_count": 4,
   "outputs": [
    {
     "data": {
      "text/plain": "(tensor([[0.0000],\n         [0.0200],\n         [0.0400],\n         [0.0600],\n         [0.0800],\n         [0.1000],\n         [0.1200],\n         [0.1400],\n         [0.1600],\n         [0.1800]]),\n tensor([[0.3000],\n         [0.3140],\n         [0.3280],\n         [0.3420],\n         [0.3560],\n         [0.3700],\n         [0.3840],\n         [0.3980],\n         [0.4120],\n         [0.4260]]))"
     },
     "execution_count": 4,
     "metadata": {},
     "output_type": "execute_result"
    }
   ],
   "source": [
    "# Create known parameters\n",
    "w = 0.7 # b in LR\n",
    "b = 0.3 # a in LR\n",
    "\n",
    "# Create\n",
    "start = 0\n",
    "end =  1\n",
    "step = 0.02\n",
    "X = t.arange(start,end, step).unsqueeze(dim=1)\n",
    "y = w * X + b\n",
    "X[:10], y[:10]"
   ],
   "metadata": {
    "collapsed": false,
    "ExecuteTime": {
     "end_time": "2024-02-26T01:53:58.661804900Z",
     "start_time": "2024-02-26T01:53:57.422857Z"
    }
   },
   "id": "bf6f134e2e6c7b75"
  },
  {
   "cell_type": "code",
   "execution_count": 5,
   "outputs": [
    {
     "data": {
      "text/plain": "(50, 50)"
     },
     "execution_count": 5,
     "metadata": {},
     "output_type": "execute_result"
    }
   ],
   "source": [
    "len(X), len(y)\n"
   ],
   "metadata": {
    "collapsed": false,
    "ExecuteTime": {
     "end_time": "2024-02-26T01:53:58.668228Z",
     "start_time": "2024-02-26T01:53:57.479116400Z"
    }
   },
   "id": "a4d73fead54cdf8b"
  },
  {
   "cell_type": "code",
   "execution_count": 6,
   "outputs": [
    {
     "data": {
      "text/plain": "(torch.Size([50, 1]), torch.Size([50, 1]))"
     },
     "execution_count": 6,
     "metadata": {},
     "output_type": "execute_result"
    }
   ],
   "source": [
    "X.size(), y.size()"
   ],
   "metadata": {
    "collapsed": false,
    "ExecuteTime": {
     "end_time": "2024-02-26T01:53:58.669224800Z",
     "start_time": "2024-02-26T01:53:57.487433400Z"
    }
   },
   "id": "f29abf4df388dde9"
  },
  {
   "cell_type": "code",
   "execution_count": 7,
   "outputs": [
    {
     "data": {
      "text/plain": "(40, 10, 40, 10)"
     },
     "execution_count": 7,
     "metadata": {},
     "output_type": "execute_result"
    }
   ],
   "source": [
    "# Splitting data into training and test set\n",
    "train_split = int(0.8 * len(X)) # train/test : 80/20\n",
    "X_train, y_train = X[:train_split], y[:train_split] # index 0 ~ train_split\n",
    "X_test, y_test = X[train_split:], y[train_split:] # index train_split ~ end\n",
    "\n",
    "len(X_train), len(X_test), len(y_train), len(y_test)"
   ],
   "metadata": {
    "collapsed": false,
    "ExecuteTime": {
     "end_time": "2024-02-26T01:53:58.669224800Z",
     "start_time": "2024-02-26T01:53:57.494700900Z"
    }
   },
   "id": "3d284533bb7c87c"
  },
  {
   "cell_type": "code",
   "execution_count": 8,
   "outputs": [],
   "source": [
    "def plot_predictions(train_data=X_train,train_labels=y_train,test_data=X_test,test_labels=y_test,predictions=None) -> None:\n",
    "    \"\"\"\n",
    "    Plot training data, test data and compares predictions\n",
    "    :param train_data: \n",
    "    :param train_labels: \n",
    "    :param test_data: \n",
    "    :param test_labels: \n",
    "    :param predictions: \n",
    "    :return: None\n",
    "    \"\"\"\n",
    "    \n",
    "    plt.figure(figsize=(10,7))\n",
    "\n",
    "    # Plotting training data in blue\n",
    "    plt.scatter(train_data, train_labels, c='b', s=4, label=\"Training Data\")\n",
    "    \n",
    "    # PLotting test data in green\n",
    "    plt.scatter(test_data, test_labels, c='g', s=4, label=\"Testing Data\")\n",
    "    \n",
    "    if predictions is not None:\n",
    "        # plot the prediction is Exist\n",
    "        plt.scatter(test_data, predictions, c='r', s=4, label='Predictions')\n",
    "        \n",
    "    plt.show()\n",
    "    \n"
   ],
   "metadata": {
    "collapsed": false,
    "ExecuteTime": {
     "end_time": "2024-02-26T01:53:58.669224800Z",
     "start_time": "2024-02-26T01:53:57.500847300Z"
    }
   },
   "id": "f2bd42321f40c5c2"
  },
  {
   "cell_type": "code",
   "execution_count": null,
   "outputs": [],
   "source": [
    "plot_predictions()"
   ],
   "metadata": {
    "collapsed": false,
    "is_executing": true,
    "ExecuteTime": {
     "start_time": "2024-02-26T01:54:08.394944100Z"
    }
   },
   "id": "d667c7d9ca2f7e5b"
  }
 ],
 "metadata": {
  "kernelspec": {
   "display_name": "Python 3",
   "language": "python",
   "name": "python3"
  },
  "language_info": {
   "codemirror_mode": {
    "name": "ipython",
    "version": 2
   },
   "file_extension": ".py",
   "mimetype": "text/x-python",
   "name": "python",
   "nbconvert_exporter": "python",
   "pygments_lexer": "ipython2",
   "version": "2.7.6"
  }
 },
 "nbformat": 4,
 "nbformat_minor": 5
}
