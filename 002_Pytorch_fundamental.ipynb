{
 "metadata": {
  "kernelspec": {
   "display_name": "Python 3",
   "language": "python",
   "name": "python3"
  },
  "language_info": {
   "name": "python",
   "version": "3.10.13",
   "mimetype": "text/x-python",
   "codemirror_mode": {
    "name": "ipython",
    "version": 3
   },
   "pygments_lexer": "ipython3",
   "nbconvert_exporter": "python",
   "file_extension": ".py"
  },
  "kaggle": {
   "accelerator": "gpu",
   "dataSources": [],
   "dockerImageVersionId": 30648,
   "isInternetEnabled": true,
   "language": "python",
   "sourceType": "notebook",
   "isGpuEnabled": true
  }
 },
 "nbformat_minor": 5,
 "nbformat": 4,
 "cells": [
  {
   "cell_type": "code",
   "source": [
    "import torch as t"
   ],
   "metadata": {
    "ExecuteTime": {
     "end_time": "2024-02-23T16:04:49.424722800Z",
     "start_time": "2024-02-23T16:04:49.394339300Z"
    },
    "execution": {
     "iopub.status.busy": "2024-02-23T17:06:24.491132Z",
     "iopub.execute_input": "2024-02-23T17:06:24.491541Z",
     "iopub.status.idle": "2024-02-23T17:06:28.043070Z",
     "shell.execute_reply.started": "2024-02-23T17:06:24.491508Z",
     "shell.execute_reply": "2024-02-23T17:06:28.042075Z"
    },
    "trusted": true
   },
   "execution_count": 1,
   "outputs": [],
   "id": "3737b1662d70f303"
  },
  {
   "cell_type": "markdown",
   "source": [
    "### Indexing (selecting data from tensors)"
   ],
   "metadata": {},
   "id": "321674d17b1ec307"
  },
  {
   "cell_type": "code",
   "source": [
    "t.manual_seed(23)\n",
    "x = t.arange(1,10).reshape(1, 3, 3)\n",
    "x, x.size()"
   ],
   "metadata": {
    "collapsed": false,
    "ExecuteTime": {
     "end_time": "2024-02-23T16:04:49.447895300Z",
     "start_time": "2024-02-23T16:04:49.403459900Z"
    },
    "execution": {
     "iopub.status.busy": "2024-02-23T17:06:28.045066Z",
     "iopub.execute_input": "2024-02-23T17:06:28.045592Z",
     "iopub.status.idle": "2024-02-23T17:06:28.097817Z",
     "shell.execute_reply.started": "2024-02-23T17:06:28.045561Z",
     "shell.execute_reply": "2024-02-23T17:06:28.096914Z"
    },
    "trusted": true
   },
   "execution_count": 2,
   "outputs": [
    {
     "execution_count": 2,
     "output_type": "execute_result",
     "data": {
      "text/plain": "(tensor([[[1, 2, 3],\n          [4, 5, 6],\n          [7, 8, 9]]]),\n torch.Size([1, 3, 3]))"
     },
     "metadata": {}
    }
   ],
   "id": "5a5a082953ab0762"
  },
  {
   "cell_type": "code",
   "source": [
    "# Use \":\" to select all of the target dim\n",
    "i_row, i_col  = 0, 1\n",
    "print(x[:, i_row])  # = x[:, 0, :] \n",
    "print(x[:, :, i_col]) # get all of the 0th and 1st dim but only index 1 of 2nd dim. aka col 1\n",
    "\n",
    "print(x[:, i_row, i_col]) # get all of the 0th dim but only the index 0 of 1st dim and the index 1 of the 2nd dim"
   ],
   "metadata": {
    "collapsed": false,
    "ExecuteTime": {
     "end_time": "2024-02-23T16:04:49.447895300Z",
     "start_time": "2024-02-23T16:04:49.413344200Z"
    },
    "execution": {
     "iopub.status.busy": "2024-02-23T17:06:28.098904Z",
     "iopub.execute_input": "2024-02-23T17:06:28.099194Z",
     "iopub.status.idle": "2024-02-23T17:06:28.111545Z",
     "shell.execute_reply.started": "2024-02-23T17:06:28.099171Z",
     "shell.execute_reply": "2024-02-23T17:06:28.110455Z"
    },
    "trusted": true
   },
   "execution_count": 3,
   "outputs": [
    {
     "name": "stdout",
     "text": "tensor([[1, 2, 3]])\ntensor([[2, 5, 8]])\ntensor([2])\n",
     "output_type": "stream"
    }
   ],
   "id": "4228376953de8e22"
  },
  {
   "cell_type": "markdown",
   "source": [
    "\n",
    "### Pytorch tensor & Numpy\n",
    "\n",
    "* Data in Numpy, want in Pytorch tensor -> `torch.from_numpy(ndarray)`\n",
    "* Pytorch tensor, to Numpy -> `torch.Tensor.numpy()`"
   ],
   "metadata": {},
   "id": "8209aac8795d1826"
  },
  {
   "cell_type": "code",
   "source": [
    "import numpy as np"
   ],
   "metadata": {
    "collapsed": false,
    "ExecuteTime": {
     "end_time": "2024-02-23T16:04:49.449378Z",
     "start_time": "2024-02-23T16:04:49.419731700Z"
    },
    "execution": {
     "iopub.status.busy": "2024-02-23T17:06:28.114118Z",
     "iopub.execute_input": "2024-02-23T17:06:28.114470Z",
     "iopub.status.idle": "2024-02-23T17:06:28.119015Z",
     "shell.execute_reply.started": "2024-02-23T17:06:28.114442Z",
     "shell.execute_reply": "2024-02-23T17:06:28.118190Z"
    },
    "trusted": true
   },
   "execution_count": 4,
   "outputs": [],
   "id": "6335f26cc6920f6c"
  },
  {
   "cell_type": "code",
   "source": [
    "arr = np.arange(1.,8.)\n",
    "tensor = t.from_numpy(arr).type(t.float32) # WARNING:  when convert np to tensor default dtype is float 64\n",
    "arr, tensor"
   ],
   "metadata": {
    "collapsed": false,
    "ExecuteTime": {
     "end_time": "2024-02-23T16:04:49.481843500Z",
     "start_time": "2024-02-23T16:04:49.425719100Z"
    },
    "execution": {
     "iopub.status.busy": "2024-02-23T17:06:28.120059Z",
     "iopub.execute_input": "2024-02-23T17:06:28.120352Z",
     "iopub.status.idle": "2024-02-23T17:06:28.176196Z",
     "shell.execute_reply.started": "2024-02-23T17:06:28.120329Z",
     "shell.execute_reply": "2024-02-23T17:06:28.175268Z"
    },
    "trusted": true
   },
   "execution_count": 5,
   "outputs": [
    {
     "execution_count": 5,
     "output_type": "execute_result",
     "data": {
      "text/plain": "(array([1., 2., 3., 4., 5., 6., 7.]), tensor([1., 2., 3., 4., 5., 6., 7.]))"
     },
     "metadata": {}
    }
   ],
   "id": "93eb35a24e635af5"
  },
  {
   "cell_type": "code",
   "source": [
    "# If we change the `arr`,will the `tensor` change?\n",
    "\n",
    "arr = arr +1 \n",
    "tensor # No, if separate dependently"
   ],
   "metadata": {
    "collapsed": false,
    "ExecuteTime": {
     "end_time": "2024-02-23T16:15:37.191466600Z",
     "start_time": "2024-02-23T16:15:37.182379900Z"
    },
    "execution": {
     "iopub.status.busy": "2024-02-23T17:06:28.177413Z",
     "iopub.execute_input": "2024-02-23T17:06:28.177714Z",
     "iopub.status.idle": "2024-02-23T17:06:28.184710Z",
     "shell.execute_reply.started": "2024-02-23T17:06:28.177689Z",
     "shell.execute_reply": "2024-02-23T17:06:28.183775Z"
    },
    "trusted": true
   },
   "execution_count": 6,
   "outputs": [
    {
     "execution_count": 6,
     "output_type": "execute_result",
     "data": {
      "text/plain": "tensor([1., 2., 3., 4., 5., 6., 7.])"
     },
     "metadata": {}
    }
   ],
   "id": "ad1328c2b5d70608"
  },
  {
   "cell_type": "code",
   "source": [
    "# Tensor to numpy\n",
    "tensor = t.ones(5)\n",
    "numpy_arr = tensor.numpy()\n",
    "numpy_arr.dtype, tensor"
   ],
   "metadata": {
    "collapsed": false,
    "ExecuteTime": {
     "end_time": "2024-02-23T16:05:16.245500300Z",
     "start_time": "2024-02-23T16:05:16.240091400Z"
    },
    "execution": {
     "iopub.status.busy": "2024-02-23T17:06:28.185834Z",
     "iopub.execute_input": "2024-02-23T17:06:28.186162Z",
     "iopub.status.idle": "2024-02-23T17:06:28.197117Z",
     "shell.execute_reply.started": "2024-02-23T17:06:28.186138Z",
     "shell.execute_reply": "2024-02-23T17:06:28.196149Z"
    },
    "trusted": true
   },
   "execution_count": 7,
   "outputs": [
    {
     "execution_count": 7,
     "output_type": "execute_result",
     "data": {
      "text/plain": "(dtype('float32'), tensor([1., 1., 1., 1., 1.]))"
     },
     "metadata": {}
    }
   ],
   "id": "c278dcee0ab699c3"
  },
  {
   "cell_type": "code",
   "source": [
    "# If we change the `tensor`, Will the `numpy_arr` change?\n",
    "tensor += 1\n",
    "numpy_arr, tensor # It share memory"
   ],
   "metadata": {
    "collapsed": false,
    "ExecuteTime": {
     "end_time": "2024-02-23T16:15:48.574423600Z",
     "start_time": "2024-02-23T16:15:48.564928400Z"
    },
    "execution": {
     "iopub.status.busy": "2024-02-23T17:06:28.198285Z",
     "iopub.execute_input": "2024-02-23T17:06:28.198613Z",
     "iopub.status.idle": "2024-02-23T17:06:28.208630Z",
     "shell.execute_reply.started": "2024-02-23T17:06:28.198584Z",
     "shell.execute_reply": "2024-02-23T17:06:28.207688Z"
    },
    "trusted": true
   },
   "execution_count": 8,
   "outputs": [
    {
     "execution_count": 8,
     "output_type": "execute_result",
     "data": {
      "text/plain": "(array([2., 2., 2., 2., 2.], dtype=float32), tensor([2., 2., 2., 2., 2.]))"
     },
     "metadata": {}
    }
   ],
   "id": "4a2829a5b259733f"
  },
  {
   "cell_type": "markdown",
   "source": [
    "### Reproducibility (trying to take random out of random)\n",
    "using `t.manual_seed(SEED)`"
   ],
   "metadata": {},
   "id": "6cf166cea52db300"
  },
  {
   "cell_type": "markdown",
   "source": [
    "### set up device"
   ],
   "metadata": {},
   "id": "c13defc99a3fd75a"
  },
  {
   "cell_type": "code",
   "source": [
    "t.cuda.is_available()"
   ],
   "metadata": {
    "collapsed": false,
    "ExecuteTime": {
     "end_time": "2024-02-23T16:59:15.640268800Z",
     "start_time": "2024-02-23T16:59:15.634294200Z"
    },
    "execution": {
     "iopub.status.busy": "2024-02-23T17:06:28.209786Z",
     "iopub.execute_input": "2024-02-23T17:06:28.210086Z",
     "iopub.status.idle": "2024-02-23T17:06:28.240191Z",
     "shell.execute_reply.started": "2024-02-23T17:06:28.210061Z",
     "shell.execute_reply": "2024-02-23T17:06:28.239244Z"
    },
    "trusted": true
   },
   "execution_count": 9,
   "outputs": [
    {
     "execution_count": 9,
     "output_type": "execute_result",
     "data": {
      "text/plain": "True"
     },
     "metadata": {}
    }
   ],
   "id": "dea5e126cb279327"
  },
  {
   "cell_type": "code",
   "source": [
    "t.cuda.device_count()"
   ],
   "metadata": {
    "collapsed": false,
    "ExecuteTime": {
     "end_time": "2024-02-23T16:59:29.892740600Z",
     "start_time": "2024-02-23T16:59:29.880584Z"
    },
    "execution": {
     "iopub.status.busy": "2024-02-23T17:06:28.243664Z",
     "iopub.execute_input": "2024-02-23T17:06:28.244042Z",
     "iopub.status.idle": "2024-02-23T17:06:28.268899Z",
     "shell.execute_reply.started": "2024-02-23T17:06:28.244014Z",
     "shell.execute_reply": "2024-02-23T17:06:28.267972Z"
    },
    "trusted": true
   },
   "execution_count": 10,
   "outputs": [
    {
     "execution_count": 10,
     "output_type": "execute_result",
     "data": {
      "text/plain": "1"
     },
     "metadata": {}
    }
   ],
   "id": "eb6f989d09a54894"
  },
  {
   "cell_type": "code",
   "source": [
    "DEVICE = \"cuda\" if t.cuda.is_available() else \"cpu\"\n",
    "DEVICE"
   ],
   "metadata": {
    "collapsed": false,
    "ExecuteTime": {
     "end_time": "2024-02-23T17:00:11.805383600Z",
     "start_time": "2024-02-23T17:00:11.797680600Z"
    },
    "execution": {
     "iopub.status.busy": "2024-02-23T17:06:28.270029Z",
     "iopub.execute_input": "2024-02-23T17:06:28.270350Z",
     "iopub.status.idle": "2024-02-23T17:06:28.276725Z",
     "shell.execute_reply.started": "2024-02-23T17:06:28.270325Z",
     "shell.execute_reply": "2024-02-23T17:06:28.275732Z"
    },
    "trusted": true
   },
   "execution_count": 11,
   "outputs": [
    {
     "execution_count": 11,
     "output_type": "execute_result",
     "data": {
      "text/plain": "'cuda'"
     },
     "metadata": {}
    }
   ],
   "id": "cb41db8578857bdf"
  },
  {
   "cell_type": "markdown",
   "source": [
    "### Putting tensors on the GPU "
   ],
   "metadata": {},
   "id": "2667a938fc4ba691"
  },
  {
   "cell_type": "code",
   "source": [
    "tensor = t.tensor([1,2,3])\n",
    "\n",
    "print(tensor, tensor.device)"
   ],
   "metadata": {
    "collapsed": false,
    "ExecuteTime": {
     "end_time": "2024-02-23T17:02:35.754181400Z",
     "start_time": "2024-02-23T17:02:35.750414300Z"
    },
    "execution": {
     "iopub.status.busy": "2024-02-23T17:06:28.277838Z",
     "iopub.execute_input": "2024-02-23T17:06:28.278314Z",
     "iopub.status.idle": "2024-02-23T17:06:28.286464Z",
     "shell.execute_reply.started": "2024-02-23T17:06:28.278290Z",
     "shell.execute_reply": "2024-02-23T17:06:28.285516Z"
    },
    "trusted": true
   },
   "execution_count": 12,
   "outputs": [
    {
     "name": "stdout",
     "text": "tensor([1, 2, 3]) cpu\n",
     "output_type": "stream"
    }
   ],
   "id": "7446c067f3497cb9"
  },
  {
   "cell_type": "code",
   "source": [
    "tensor_on_gpu = tensor.to(DEVICE)\n",
    "tensor_on_gpu"
   ],
   "metadata": {
    "collapsed": false,
    "ExecuteTime": {
     "end_time": "2024-02-23T17:03:23.120363900Z",
     "start_time": "2024-02-23T17:03:23.114362400Z"
    },
    "execution": {
     "iopub.status.busy": "2024-02-23T17:07:26.434899Z",
     "iopub.execute_input": "2024-02-23T17:07:26.435475Z",
     "iopub.status.idle": "2024-02-23T17:07:26.443552Z",
     "shell.execute_reply.started": "2024-02-23T17:07:26.435442Z",
     "shell.execute_reply": "2024-02-23T17:07:26.442268Z"
    },
    "trusted": true
   },
   "execution_count": 18,
   "outputs": [
    {
     "execution_count": 18,
     "output_type": "execute_result",
     "data": {
      "text/plain": "tensor([1, 2, 3], device='cuda:0')"
     },
     "metadata": {}
    }
   ],
   "id": "2ba2002f2e745f35"
  },
  {
   "cell_type": "code",
   "source": [
    "# Moving tensors back to the CPU\n",
    "\n",
    "# If tensor is on GPU, can't transform it to Numpy\n",
    "# tensor_on_gpu.numpy() # error\n",
    "\n",
    "#to fix the GPU tensor with Numpy issue -> turn back to cpu\n",
    "tensor_back_on_cpu = tensor_on_gpu.cpu().numpy()\n",
    "tensor_back_on_cpu"
   ],
   "metadata": {
    "collapsed": false,
    "execution": {
     "iopub.status.busy": "2024-02-23T17:08:25.734923Z",
     "iopub.execute_input": "2024-02-23T17:08:25.735294Z",
     "iopub.status.idle": "2024-02-23T17:08:25.742281Z",
     "shell.execute_reply.started": "2024-02-23T17:08:25.735264Z",
     "shell.execute_reply": "2024-02-23T17:08:25.741257Z"
    },
    "trusted": true
   },
   "execution_count": 20,
   "outputs": [
    {
     "execution_count": 20,
     "output_type": "execute_result",
     "data": {
      "text/plain": "array([1, 2, 3])"
     },
     "metadata": {}
    }
   ],
   "id": "bb8a2dae920df70c"
  }
 ]
}
