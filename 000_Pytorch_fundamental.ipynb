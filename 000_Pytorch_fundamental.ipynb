{
 "cells": [
  {
   "cell_type": "code",
   "execution_count": 200,
   "id": "initial_id",
   "metadata": {
    "collapsed": true,
    "ExecuteTime": {
     "end_time": "2024-02-23T15:24:03.916691500Z",
     "start_time": "2024-02-23T15:24:03.895627800Z"
    }
   },
   "outputs": [],
   "source": [
    "import torch as t"
   ]
  },
  {
   "cell_type": "markdown",
   "source": [
    "# I. Introduction to Tensors"
   ],
   "metadata": {
    "collapsed": false
   },
   "id": "e5f3c7481b69925a"
  },
  {
   "cell_type": "markdown",
   "source": [
    "## 1. Creating Tensors"
   ],
   "metadata": {
    "collapsed": false
   },
   "id": "e67aea0ec3814ec3"
  },
  {
   "cell_type": "markdown",
   "source": [
    "#### A. Scalar"
   ],
   "metadata": {
    "collapsed": false
   },
   "id": "5b1568aebec89afc"
  },
  {
   "cell_type": "code",
   "execution_count": 142,
   "outputs": [
    {
     "data": {
      "text/plain": "tensor(7)"
     },
     "execution_count": 142,
     "metadata": {},
     "output_type": "execute_result"
    }
   ],
   "source": [
    "scalar = t.tensor(7)\n",
    "scalar"
   ],
   "metadata": {
    "collapsed": false,
    "ExecuteTime": {
     "end_time": "2024-02-23T15:23:29.446436800Z",
     "start_time": "2024-02-23T15:23:28.605040Z"
    }
   },
   "id": "24e1d2289d67363"
  },
  {
   "cell_type": "code",
   "execution_count": 143,
   "outputs": [
    {
     "name": "stdout",
     "output_type": "stream",
     "text": [
      "7\n"
     ]
    },
    {
     "data": {
      "text/plain": "0"
     },
     "execution_count": 143,
     "metadata": {},
     "output_type": "execute_result"
    }
   ],
   "source": [
    "print(scalar.item())  # .item() only available for scalar\n",
    "scalar.ndim"
   ],
   "metadata": {
    "collapsed": false,
    "ExecuteTime": {
     "end_time": "2024-02-23T15:23:29.451560800Z",
     "start_time": "2024-02-23T15:23:28.612594400Z"
    }
   },
   "id": "9da071924fe91ee8"
  },
  {
   "cell_type": "markdown",
   "source": [
    "#### B. Vector"
   ],
   "metadata": {
    "collapsed": false
   },
   "id": "ff9a530586b9e486"
  },
  {
   "cell_type": "code",
   "execution_count": 144,
   "outputs": [
    {
     "data": {
      "text/plain": "tensor([7, 7])"
     },
     "execution_count": 144,
     "metadata": {},
     "output_type": "execute_result"
    }
   ],
   "source": [
    "vector = t.tensor([7, 7])\n",
    "vector"
   ],
   "metadata": {
    "collapsed": false,
    "ExecuteTime": {
     "end_time": "2024-02-23T15:23:29.490712Z",
     "start_time": "2024-02-23T15:23:28.620990900Z"
    }
   },
   "id": "49c3c6eac83c46e1"
  },
  {
   "cell_type": "code",
   "execution_count": 145,
   "outputs": [
    {
     "data": {
      "text/plain": "1"
     },
     "execution_count": 145,
     "metadata": {},
     "output_type": "execute_result"
    }
   ],
   "source": [
    "vector.ndim  # number of square bracket"
   ],
   "metadata": {
    "collapsed": false,
    "ExecuteTime": {
     "end_time": "2024-02-23T15:23:29.490712Z",
     "start_time": "2024-02-23T15:23:28.628340600Z"
    }
   },
   "id": "248ad89bab9d7a16"
  },
  {
   "cell_type": "code",
   "execution_count": 146,
   "outputs": [
    {
     "data": {
      "text/plain": "torch.Size([2])"
     },
     "execution_count": 146,
     "metadata": {},
     "output_type": "execute_result"
    }
   ],
   "source": [
    "vector.shape"
   ],
   "metadata": {
    "collapsed": false,
    "ExecuteTime": {
     "end_time": "2024-02-23T15:23:29.550238200Z",
     "start_time": "2024-02-23T15:23:28.631739900Z"
    }
   },
   "id": "23e236a9f52f585c"
  },
  {
   "cell_type": "markdown",
   "source": [
    "#### C. MATRIX"
   ],
   "metadata": {
    "collapsed": false
   },
   "id": "6fc8b43e45d61dd6"
  },
  {
   "cell_type": "code",
   "execution_count": 147,
   "outputs": [
    {
     "data": {
      "text/plain": "tensor([[ 7,  8],\n        [ 9, 10]])"
     },
     "execution_count": 147,
     "metadata": {},
     "output_type": "execute_result"
    }
   ],
   "source": [
    "matrix = t.tensor([[7, 8], [9, 10]])\n",
    "matrix"
   ],
   "metadata": {
    "collapsed": false,
    "ExecuteTime": {
     "end_time": "2024-02-23T15:23:29.574579500Z",
     "start_time": "2024-02-23T15:23:28.640585500Z"
    }
   },
   "id": "a28cce79cf988e18"
  },
  {
   "cell_type": "code",
   "execution_count": 148,
   "outputs": [
    {
     "data": {
      "text/plain": "2"
     },
     "execution_count": 148,
     "metadata": {},
     "output_type": "execute_result"
    }
   ],
   "source": [
    "matrix.ndim"
   ],
   "metadata": {
    "collapsed": false,
    "ExecuteTime": {
     "end_time": "2024-02-23T15:23:29.575576200Z",
     "start_time": "2024-02-23T15:23:28.650080900Z"
    }
   },
   "id": "3a7a734d2146aa40"
  },
  {
   "cell_type": "code",
   "execution_count": 149,
   "outputs": [
    {
     "data": {
      "text/plain": "torch.Size([2, 2])"
     },
     "execution_count": 149,
     "metadata": {},
     "output_type": "execute_result"
    }
   ],
   "source": [
    "matrix.shape"
   ],
   "metadata": {
    "collapsed": false,
    "ExecuteTime": {
     "end_time": "2024-02-23T15:23:29.627020300Z",
     "start_time": "2024-02-23T15:23:28.655304700Z"
    }
   },
   "id": "a188dee62c38e214"
  },
  {
   "cell_type": "markdown",
   "source": [
    "#### D. TENSOR"
   ],
   "metadata": {
    "collapsed": false
   },
   "id": "dcd3cd1adc805041"
  },
  {
   "cell_type": "code",
   "execution_count": 150,
   "outputs": [
    {
     "data": {
      "text/plain": "tensor([[[ 1,  2,  3],\n         [ 4,  5,  6],\n         [ 8,  9, 10]]])"
     },
     "execution_count": 150,
     "metadata": {},
     "output_type": "execute_result"
    }
   ],
   "source": [
    "tensor = t.tensor([[[1, 2, 3], [4, 5, 6], [8, 9, 10]]])\n",
    "tensor"
   ],
   "metadata": {
    "collapsed": false,
    "ExecuteTime": {
     "end_time": "2024-02-23T15:23:29.661397400Z",
     "start_time": "2024-02-23T15:23:28.665905200Z"
    }
   },
   "id": "467c032115fe15d1"
  },
  {
   "cell_type": "code",
   "execution_count": 151,
   "outputs": [
    {
     "data": {
      "text/plain": "3"
     },
     "execution_count": 151,
     "metadata": {},
     "output_type": "execute_result"
    }
   ],
   "source": [
    "tensor.ndim"
   ],
   "metadata": {
    "collapsed": false,
    "ExecuteTime": {
     "end_time": "2024-02-23T15:23:29.712228600Z",
     "start_time": "2024-02-23T15:23:28.674604700Z"
    }
   },
   "id": "d8874463bb23da28"
  },
  {
   "cell_type": "code",
   "execution_count": 152,
   "outputs": [
    {
     "data": {
      "text/plain": "torch.Size([1, 3, 3])"
     },
     "execution_count": 152,
     "metadata": {},
     "output_type": "execute_result"
    }
   ],
   "source": [
    "tensor.shape  # 1 3x3 matrix"
   ],
   "metadata": {
    "collapsed": false,
    "ExecuteTime": {
     "end_time": "2024-02-23T15:23:29.765848600Z",
     "start_time": "2024-02-23T15:23:28.688127900Z"
    }
   },
   "id": "922dc154399edb2"
  },
  {
   "cell_type": "markdown",
   "source": [
    "#### E. Random tensors"
   ],
   "metadata": {
    "collapsed": false
   },
   "id": "75b9cba29353d174"
  },
  {
   "cell_type": "code",
   "execution_count": 199,
   "outputs": [
    {
     "data": {
      "text/plain": "tensor([[0.8645, 0.6934, 0.9721, 0.2847],\n        [0.7271, 0.2335, 0.5542, 0.2804],\n        [0.6489, 0.8179, 0.9999, 0.8257]])"
     },
     "execution_count": 199,
     "metadata": {},
     "output_type": "execute_result"
    }
   ],
   "source": [
    "random_tensor = t.rand(3, 4)\n",
    "random_tensor"
   ],
   "metadata": {
    "collapsed": false,
    "ExecuteTime": {
     "end_time": "2024-02-23T15:23:47.764247700Z",
     "start_time": "2024-02-23T15:23:47.760666200Z"
    }
   },
   "id": "c1745f23ef661a5b"
  },
  {
   "cell_type": "code",
   "execution_count": 154,
   "outputs": [
    {
     "data": {
      "text/plain": "(torch.Size([3, 224, 224]), 3)"
     },
     "execution_count": 154,
     "metadata": {},
     "output_type": "execute_result"
    }
   ],
   "source": [
    "random_image_tensor = t.rand(size=(3, 224, 224))\n",
    "random_image_tensor.shape, random_image_tensor.ndim"
   ],
   "metadata": {
    "collapsed": false,
    "ExecuteTime": {
     "end_time": "2024-02-23T15:23:29.865149Z",
     "start_time": "2024-02-23T15:23:28.702112900Z"
    }
   },
   "id": "345725fe147f9ebb"
  },
  {
   "cell_type": "markdown",
   "source": [
    "#### E. Zeros and ones"
   ],
   "metadata": {
    "collapsed": false
   },
   "id": "39c5ead71f29355f"
  },
  {
   "cell_type": "code",
   "execution_count": 155,
   "outputs": [
    {
     "data": {
      "text/plain": "tensor([[0., 0., 0., 0.],\n        [0., 0., 0., 0.],\n        [0., 0., 0., 0.]])"
     },
     "execution_count": 155,
     "metadata": {},
     "output_type": "execute_result"
    }
   ],
   "source": [
    "# Create a tensor of full zeros\n",
    "zeros = t.zeros(size=(3, 4))\n",
    "zeros"
   ],
   "metadata": {
    "collapsed": false,
    "ExecuteTime": {
     "end_time": "2024-02-23T15:23:29.866147500Z",
     "start_time": "2024-02-23T15:23:28.710397100Z"
    }
   },
   "id": "3a4479bd56dcb74d"
  },
  {
   "cell_type": "code",
   "execution_count": 156,
   "outputs": [
    {
     "data": {
      "text/plain": "tensor([[0., 0., 0., 0.],\n        [0., 0., 0., 0.],\n        [0., 0., 0., 0.]])"
     },
     "execution_count": 156,
     "metadata": {},
     "output_type": "execute_result"
    }
   ],
   "source": [
    "zeros * random_tensor"
   ],
   "metadata": {
    "collapsed": false,
    "ExecuteTime": {
     "end_time": "2024-02-23T15:23:29.926545700Z",
     "start_time": "2024-02-23T15:23:28.719587200Z"
    }
   },
   "id": "8ab9f7f1daa6a04e"
  },
  {
   "cell_type": "code",
   "execution_count": 157,
   "outputs": [
    {
     "data": {
      "text/plain": "tensor([[1., 1., 1., 1.],\n        [1., 1., 1., 1.],\n        [1., 1., 1., 1.]])"
     },
     "execution_count": 157,
     "metadata": {},
     "output_type": "execute_result"
    }
   ],
   "source": [
    "ones = t.ones(3, 4)\n",
    "ones"
   ],
   "metadata": {
    "collapsed": false,
    "ExecuteTime": {
     "end_time": "2024-02-23T15:23:30.020890700Z",
     "start_time": "2024-02-23T15:23:28.727210700Z"
    }
   },
   "id": "cad93930add1d9e4"
  },
  {
   "cell_type": "markdown",
   "source": [
    "#### F. Range of tensors and tensors-like"
   ],
   "metadata": {
    "collapsed": false
   },
   "id": "194e058a6a59d5cb"
  },
  {
   "cell_type": "code",
   "execution_count": 158,
   "outputs": [
    {
     "name": "stdout",
     "output_type": "stream",
     "text": [
      "tensor([ 1,  2,  3,  4,  5,  6,  7,  8,  9, 10])\n",
      "torch.Size([10])\n"
     ]
    }
   ],
   "source": [
    "# use torch.range() will get a deprecated message, use torch.arange() instead\n",
    "one_to_ten = t.arange(start=1, end=11, step=1)  # out: start -> (end-1)\n",
    "print(one_to_ten)\n",
    "print(one_to_ten.shape)"
   ],
   "metadata": {
    "collapsed": false,
    "ExecuteTime": {
     "end_time": "2024-02-23T15:23:30.022238300Z",
     "start_time": "2024-02-23T15:23:28.740863Z"
    }
   },
   "id": "9a28e51b74c344f3"
  },
  {
   "cell_type": "code",
   "execution_count": 159,
   "outputs": [
    {
     "name": "stdout",
     "output_type": "stream",
     "text": [
      "tensor([0, 0, 0, 0, 0, 0, 0, 0, 0, 0])\n",
      "torch.Size([10])\n"
     ]
    }
   ],
   "source": [
    "ten_zeros = t.zeros_like(one_to_ten)\n",
    "print(ten_zeros)\n",
    "print(ten_zeros.shape)"
   ],
   "metadata": {
    "collapsed": false,
    "ExecuteTime": {
     "end_time": "2024-02-23T15:23:30.192289Z",
     "start_time": "2024-02-23T15:23:28.745575100Z"
    }
   },
   "id": "2a77701bb8b90fed"
  },
  {
   "cell_type": "markdown",
   "source": [
    "## 2. Tensor datatypes\n",
    "float32, float16, float64, etc...\n",
    "This is a number of memory of a single number was stored in RAM"
   ],
   "metadata": {
    "collapsed": false
   },
   "id": "36fea70680239756"
  },
  {
   "cell_type": "code",
   "execution_count": 160,
   "outputs": [
    {
     "data": {
      "text/plain": "torch.float32"
     },
     "execution_count": 160,
     "metadata": {},
     "output_type": "execute_result"
    }
   ],
   "source": [
    "float_32_tensor = t.tensor([3.0, 6.0, 9.0],\n",
    "                           dtype=None,  # What dtype is the tensor\n",
    "                           device=None,  # What device of your tensor on\n",
    "                           requires_grad=False)  # Whether or not to track gradients with this tensor operation\n",
    "float_32_tensor.dtype"
   ],
   "metadata": {
    "collapsed": false,
    "ExecuteTime": {
     "end_time": "2024-02-23T15:23:30.196428400Z",
     "start_time": "2024-02-23T15:23:28.758558100Z"
    }
   },
   "id": "e5144e2974755a67"
  },
  {
   "cell_type": "code",
   "execution_count": 161,
   "outputs": [
    {
     "data": {
      "text/plain": "tensor([3., 6., 9.], dtype=torch.float16)"
     },
     "execution_count": 161,
     "metadata": {},
     "output_type": "execute_result"
    }
   ],
   "source": [
    "float_16_tensor = t.tensor([3.0, 6.0, 9.0], dtype=t.float16)\n",
    "float_16_tensor"
   ],
   "metadata": {
    "collapsed": false,
    "ExecuteTime": {
     "end_time": "2024-02-23T15:23:30.215136800Z",
     "start_time": "2024-02-23T15:23:28.764612600Z"
    }
   },
   "id": "9b294f8a3eb7590e"
  },
  {
   "cell_type": "code",
   "execution_count": 162,
   "outputs": [
    {
     "data": {
      "text/plain": "torch.float32"
     },
     "execution_count": 162,
     "metadata": {},
     "output_type": "execute_result"
    }
   ],
   "source": [
    "(float_16_tensor * float_32_tensor).dtype"
   ],
   "metadata": {
    "collapsed": false,
    "ExecuteTime": {
     "end_time": "2024-02-23T15:23:30.228239500Z",
     "start_time": "2024-02-23T15:23:28.771477500Z"
    }
   },
   "id": "a3395ad02e3bbe84"
  },
  {
   "cell_type": "code",
   "execution_count": 163,
   "outputs": [
    {
     "data": {
      "text/plain": "torch.float32"
     },
     "execution_count": 163,
     "metadata": {},
     "output_type": "execute_result"
    }
   ],
   "source": [
    "(float_16_tensor + float_32_tensor).dtype"
   ],
   "metadata": {
    "collapsed": false,
    "ExecuteTime": {
     "end_time": "2024-02-23T15:23:30.229990800Z",
     "start_time": "2024-02-23T15:23:28.779304400Z"
    }
   },
   "id": "457639d2894d0378"
  },
  {
   "cell_type": "code",
   "execution_count": 164,
   "outputs": [
    {
     "data": {
      "text/plain": "tensor([3, 6, 9], dtype=torch.int32)"
     },
     "execution_count": 164,
     "metadata": {},
     "output_type": "execute_result"
    }
   ],
   "source": [
    "int_32_tensor = t.tensor([3, 6, 9], dtype=t.int32)\n",
    "int_32_tensor"
   ],
   "metadata": {
    "collapsed": false,
    "ExecuteTime": {
     "end_time": "2024-02-23T15:23:30.231005800Z",
     "start_time": "2024-02-23T15:23:28.790911Z"
    }
   },
   "id": "ca1852efc09f8c40"
  },
  {
   "cell_type": "code",
   "execution_count": 165,
   "outputs": [
    {
     "data": {
      "text/plain": "tensor([ 9., 36., 81.])"
     },
     "execution_count": 165,
     "metadata": {},
     "output_type": "execute_result"
    }
   ],
   "source": [
    "float_32_tensor * int_32_tensor"
   ],
   "metadata": {
    "collapsed": false,
    "ExecuteTime": {
     "end_time": "2024-02-23T15:23:30.231005800Z",
     "start_time": "2024-02-23T15:23:28.801458300Z"
    }
   },
   "id": "a2211a9c717b188a"
  },
  {
   "cell_type": "markdown",
   "source": [
    "## 3. Getting information from tensor"
   ],
   "metadata": {
    "collapsed": false
   },
   "id": "7ce1116f3e081ad0"
  },
  {
   "cell_type": "code",
   "execution_count": 166,
   "outputs": [
    {
     "data": {
      "text/plain": "tensor([[[7.0585e-01, 6.7942e-01, 8.4411e-01, 7.7608e-01, 6.7320e-01],\n         [7.3394e-01, 7.1889e-01, 7.5331e-02, 1.3185e-01, 4.4097e-01],\n         [1.3134e-02, 3.4005e-01, 5.9041e-01, 5.3109e-01, 6.2595e-02],\n         [9.5354e-01, 9.8727e-01, 1.3013e-01, 5.0758e-01, 9.2108e-01]],\n\n        [[4.1400e-01, 2.6117e-01, 5.9900e-01, 8.1109e-01, 7.1254e-01],\n         [9.4071e-01, 6.1192e-02, 1.1321e-01, 8.1438e-04, 2.7645e-01],\n         [2.4787e-01, 9.1228e-01, 8.9303e-01, 6.7247e-01, 7.2331e-01],\n         [9.8234e-01, 4.7248e-02, 8.7259e-01, 3.1503e-01, 5.6165e-01]],\n\n        [[7.1999e-01, 7.3840e-01, 2.1087e-01, 1.9495e-01, 8.6798e-01],\n         [1.0011e-01, 9.9222e-01, 3.1475e-01, 7.4038e-01, 1.8544e-01],\n         [6.0585e-01, 6.4331e-01, 1.3621e-01, 9.9489e-01, 4.5644e-01],\n         [4.5280e-01, 7.6529e-01, 6.9654e-01, 9.7367e-01, 5.4472e-01]]])"
     },
     "execution_count": 166,
     "metadata": {},
     "output_type": "execute_result"
    }
   ],
   "source": [
    "some_tensor = t.rand(3, 4, 5)\n",
    "some_tensor"
   ],
   "metadata": {
    "collapsed": false,
    "ExecuteTime": {
     "end_time": "2024-02-23T15:23:30.232017100Z",
     "start_time": "2024-02-23T15:23:28.808476900Z"
    }
   },
   "id": "d7fdc6a61d235f42"
  },
  {
   "cell_type": "code",
   "execution_count": 167,
   "outputs": [
    {
     "name": "stdout",
     "output_type": "stream",
     "text": [
      "size or shape: torch.Size([3, 4, 5])\n",
      "dtype: torch.float32\n",
      "devive: cpu\n"
     ]
    }
   ],
   "source": [
    "print(f\"size or shape: {some_tensor.size()}\")  # size of a tensor nrow, ncol, nz, etc... == sometensor.shape\n",
    "print(f\"dtype: {some_tensor.dtype}\")\n",
    "print(f\"devive: {some_tensor.device}\")"
   ],
   "metadata": {
    "collapsed": false,
    "ExecuteTime": {
     "end_time": "2024-02-23T15:23:30.232017100Z",
     "start_time": "2024-02-23T15:23:28.828166700Z"
    }
   },
   "id": "470bbe50a438f20d"
  },
  {
   "cell_type": "markdown",
   "source": [
    "## 4.  Manipulating tensor ( tensor operation )\n",
    "Tensor operations include:\n",
    " 1. addition\n",
    "2. Subtraction\n",
    "3. multiplication (element-wise)\n",
    "4. Division \n",
    "5. Matrix multiplication"
   ],
   "metadata": {
    "collapsed": false
   },
   "id": "26b383de5f612681"
  },
  {
   "cell_type": "code",
   "execution_count": 168,
   "outputs": [
    {
     "data": {
      "text/plain": "tensor([11, 12, 13])"
     },
     "execution_count": 168,
     "metadata": {},
     "output_type": "execute_result"
    }
   ],
   "source": [
    "# addition\n",
    "t1 = t.tensor([1, 2, 3])\n",
    "t1 + 10"
   ],
   "metadata": {
    "collapsed": false,
    "ExecuteTime": {
     "end_time": "2024-02-23T15:23:30.245911300Z",
     "start_time": "2024-02-23T15:23:28.836475700Z"
    }
   },
   "id": "e3891bd35ee64b82"
  },
  {
   "cell_type": "code",
   "execution_count": 169,
   "outputs": [
    {
     "data": {
      "text/plain": "tensor([10, 20, 30])"
     },
     "execution_count": 169,
     "metadata": {},
     "output_type": "execute_result"
    }
   ],
   "source": [
    "# Multiplication\n",
    "t1 * 10"
   ],
   "metadata": {
    "collapsed": false,
    "ExecuteTime": {
     "end_time": "2024-02-23T15:23:30.245911300Z",
     "start_time": "2024-02-23T15:23:28.845191100Z"
    }
   },
   "id": "941fe7161c4a1948"
  },
  {
   "cell_type": "code",
   "execution_count": 170,
   "outputs": [
    {
     "data": {
      "text/plain": "tensor([-9, -8, -7])"
     },
     "execution_count": 170,
     "metadata": {},
     "output_type": "execute_result"
    }
   ],
   "source": [
    "# Subtract\n",
    "t1 - 10"
   ],
   "metadata": {
    "collapsed": false,
    "ExecuteTime": {
     "end_time": "2024-02-23T15:23:30.248426Z",
     "start_time": "2024-02-23T15:23:28.854276400Z"
    }
   },
   "id": "240da5ff9c0214c5"
  },
  {
   "cell_type": "code",
   "execution_count": 171,
   "outputs": [
    {
     "name": "stdout",
     "output_type": "stream",
     "text": [
      "tensor([11, 12, 13])\n",
      "tensor([10, 20, 30])\n",
      "tensor([-9, -8, -7])\n"
     ]
    }
   ],
   "source": [
    "# try out pytorch built-in func\n",
    "add1 = t.add(t1, 10)\n",
    "mul1 = t.mul(t1, 10)\n",
    "sub1 = t.subtract(t1, 10)\n",
    "for item in [add1, mul1, sub1]:\n",
    "    print(item)"
   ],
   "metadata": {
    "collapsed": false,
    "ExecuteTime": {
     "end_time": "2024-02-23T15:23:30.248426Z",
     "start_time": "2024-02-23T15:23:28.863675500Z"
    }
   },
   "id": "118a76dfbceb263f"
  },
  {
   "cell_type": "markdown",
   "source": [
    "### A. Matrix multiplication\n",
    "#### two main way to performing multiplication in neural networks and DL:\n",
    "   1. element-wise: matrix with scalar , must be same shape if matrix with matrix<br> \n",
    "   2. matrix multiplication (dot product) using <code>t.matmul(t1, t2)</code> or <code>t1 @ t2</code> : matrix with matrix \n",
    "\n",
    "#### There are two main rules that performing matrix multiplication needs to satisfy:\n",
    "1. The **inner dimensions** must match:\n",
    "    * `(3,2) @ (3,2)` won't work\n",
    "    * `(3,2) @ (2,3)` will work\n",
    "    * `(2,3) @ (3,2)` will work\n",
    "2. The resulting matrix has the shape of the **outer dimensions**\n",
    "    * `(3,2) @ (2,3) -> (3, 3)` \n",
    "    * `(2,3) @ (3,2) -) (2, 2)` "
   ],
   "metadata": {
    "collapsed": false
   },
   "id": "22c1bc6056124c51"
  },
  {
   "cell_type": "code",
   "execution_count": 172,
   "outputs": [
    {
     "name": "stdout",
     "output_type": "stream",
     "text": [
      "Element wise: t1 * t2\n",
      "equal\n"
     ]
    },
    {
     "data": {
      "text/plain": "tensor([[0.7500, 0.0696, 0.2928],\n        [0.1755, 0.6932, 0.1325],\n        [0.5438, 0.0897, 0.5427],\n        [0.2566, 0.3315, 0.0314]])"
     },
     "execution_count": 172,
     "metadata": {},
     "output_type": "execute_result"
    }
   ],
   "source": [
    "# Element-wise\n",
    "t1 = t.rand(4, 3)\n",
    "t2 = t.rand(4, 3)\n",
    "print(f\"Element wise: t1 * t2\")\n",
    "print(\"equal\")\n",
    "t1 * t2"
   ],
   "metadata": {
    "collapsed": false,
    "ExecuteTime": {
     "end_time": "2024-02-23T15:23:30.249470600Z",
     "start_time": "2024-02-23T15:23:28.871459400Z"
    }
   },
   "id": "8f0814eb7ba3fc8e"
  },
  {
   "cell_type": "code",
   "execution_count": 173,
   "outputs": [
    {
     "name": "stdout",
     "output_type": "stream",
     "text": [
      "Matrix multiplication: t.matmul(t1,t2)\n",
      "equal\n"
     ]
    },
    {
     "data": {
      "text/plain": "tensor([[1.3191, 1.1874, 0.2975],\n        [2.3005, 1.5606, 0.4939],\n        [1.1651, 0.7288, 0.3029]])"
     },
     "execution_count": 173,
     "metadata": {},
     "output_type": "execute_result"
    }
   ],
   "source": [
    "# Matrix multiplication\n",
    "t1 = t.rand(3, 4)\n",
    "t2 = t.rand(4, 3)\n",
    "\n",
    "print(f\"Matrix multiplication: t.matmul(t1,t2)\")\n",
    "print(\"equal\")\n",
    "t.matmul(t1, t2)"
   ],
   "metadata": {
    "collapsed": false,
    "ExecuteTime": {
     "end_time": "2024-02-23T15:23:30.251568300Z",
     "start_time": "2024-02-23T15:23:28.884797900Z"
    }
   },
   "id": "fbd84ee4c80079da"
  },
  {
   "cell_type": "code",
   "execution_count": 174,
   "outputs": [
    {
     "data": {
      "text/plain": "tensor([[0.3492, 0.0546, 0.3584],\n        [0.0342, 0.9312, 0.1468]])"
     },
     "execution_count": 174,
     "metadata": {},
     "output_type": "execute_result"
    }
   ],
   "source": [
    "tensor_A = t.rand(2, 3)\n",
    "tensor_A"
   ],
   "metadata": {
    "collapsed": false,
    "ExecuteTime": {
     "end_time": "2024-02-23T15:23:30.251568300Z",
     "start_time": "2024-02-23T15:23:28.897034300Z"
    }
   },
   "id": "2f4fbe0c5824baa2"
  },
  {
   "cell_type": "code",
   "execution_count": 175,
   "outputs": [
    {
     "data": {
      "text/plain": "tensor([[0.3492, 0.0342],\n        [0.0546, 0.9312],\n        [0.3584, 0.1468]])"
     },
     "execution_count": 175,
     "metadata": {},
     "output_type": "execute_result"
    }
   ],
   "source": [
    "tensor_A.T"
   ],
   "metadata": {
    "collapsed": false,
    "ExecuteTime": {
     "end_time": "2024-02-23T15:23:30.251568300Z",
     "start_time": "2024-02-23T15:23:28.905517200Z"
    }
   },
   "id": "91df92da1d12afe0"
  },
  {
   "cell_type": "markdown",
   "source": [
    "### B. Fiding the min, max, mean, sum, etc... ( tensor aggregation )"
   ],
   "metadata": {
    "collapsed": false
   },
   "id": "6fd410a32d11af3f"
  },
  {
   "cell_type": "code",
   "execution_count": 176,
   "outputs": [
    {
     "data": {
      "text/plain": "(tensor(1), tensor(1))"
     },
     "execution_count": 176,
     "metadata": {},
     "output_type": "execute_result"
    }
   ],
   "source": [
    "x = t.arange(1, 100, 10)\n",
    "\n",
    "# Min\n",
    "t.min(x), x.min()"
   ],
   "metadata": {
    "collapsed": false,
    "ExecuteTime": {
     "end_time": "2024-02-23T15:23:30.251568300Z",
     "start_time": "2024-02-23T15:23:28.912847200Z"
    }
   },
   "id": "d8c3a1cd738b8bee"
  },
  {
   "cell_type": "code",
   "execution_count": 177,
   "outputs": [
    {
     "data": {
      "text/plain": "(tensor(91), tensor(91))"
     },
     "execution_count": 177,
     "metadata": {},
     "output_type": "execute_result"
    }
   ],
   "source": [
    "# Max\n",
    "t.max(x), x.max()"
   ],
   "metadata": {
    "collapsed": false,
    "ExecuteTime": {
     "end_time": "2024-02-23T15:23:30.252584100Z",
     "start_time": "2024-02-23T15:23:28.923749100Z"
    }
   },
   "id": "6f79337585661a31"
  },
  {
   "cell_type": "code",
   "execution_count": 178,
   "outputs": [
    {
     "data": {
      "text/plain": "(tensor(46.), tensor(46.))"
     },
     "execution_count": 178,
     "metadata": {},
     "output_type": "execute_result"
    }
   ],
   "source": [
    "# Mean. mean require a tensor of float32 dtype to work\n",
    "t.mean(x.type(t.float32)), x.type(t.float32).mean()"
   ],
   "metadata": {
    "collapsed": false,
    "ExecuteTime": {
     "end_time": "2024-02-23T15:23:30.252584100Z",
     "start_time": "2024-02-23T15:23:28.934942200Z"
    }
   },
   "id": "bf69d69dd840da27"
  },
  {
   "cell_type": "code",
   "execution_count": 179,
   "outputs": [
    {
     "data": {
      "text/plain": "(tensor(460), tensor(460))"
     },
     "execution_count": 179,
     "metadata": {},
     "output_type": "execute_result"
    }
   ],
   "source": [
    "# Sum\n",
    "t.sum(x), x.sum()"
   ],
   "metadata": {
    "collapsed": false,
    "ExecuteTime": {
     "end_time": "2024-02-23T15:23:30.253681600Z",
     "start_time": "2024-02-23T15:23:28.950550600Z"
    }
   },
   "id": "fc7ea08ded9211b9"
  },
  {
   "cell_type": "code",
   "execution_count": 180,
   "outputs": [
    {
     "data": {
      "text/plain": "(tensor(0), tensor(1))"
     },
     "execution_count": 180,
     "metadata": {},
     "output_type": "execute_result"
    }
   ],
   "source": [
    "# argmin: If there are multiple minimal values then the indices of the first minimal value are returned.\n",
    "t.argmin(x), x[x.argmin()]"
   ],
   "metadata": {
    "collapsed": false,
    "ExecuteTime": {
     "end_time": "2024-02-23T15:23:30.253681600Z",
     "start_time": "2024-02-23T15:23:28.968164200Z"
    }
   },
   "id": "deb872573cd5d61a"
  },
  {
   "cell_type": "code",
   "execution_count": 181,
   "outputs": [
    {
     "data": {
      "text/plain": "(tensor(9), tensor(91))"
     },
     "execution_count": 181,
     "metadata": {},
     "output_type": "execute_result"
    }
   ],
   "source": [
    "# argmax\n",
    "t.argmax(x), x[x.argmax()]"
   ],
   "metadata": {
    "collapsed": false,
    "ExecuteTime": {
     "end_time": "2024-02-23T15:23:30.253681600Z",
     "start_time": "2024-02-23T15:23:28.975425100Z"
    }
   },
   "id": "a1c088ec176e119b"
  },
  {
   "cell_type": "markdown",
   "source": [
    "### C. Reshaping, stacking, squeezing and unsqueezing tensors\n",
    "1. Reshape - reshaping an input tensor to a defines shape\n",
    "2. View - return a view of an input tensor of certain shape but keep the same memory as the original tensor\n",
    "3. Stacking - combine multiples tensors on top of each others\n",
    "4. Squeeze - remove all 1 dimensions from a tensor\n",
    "5. Unsqueeze - Add 1 dimensions to a target tensor\n",
    "6. Permute - return a view of the input with dimension permuted (swapped) in a certain ways"
   ],
   "metadata": {
    "collapsed": false
   },
   "id": "5825c2d902f3f254"
  },
  {
   "cell_type": "code",
   "execution_count": 182,
   "outputs": [
    {
     "data": {
      "text/plain": "(tensor([ 1.,  2.,  3.,  4.,  5.,  6.,  7.,  8.,  9., 10.]), torch.Size([10]))"
     },
     "execution_count": 182,
     "metadata": {},
     "output_type": "execute_result"
    }
   ],
   "source": [
    "x = t.arange(1.0, 11.0)\n",
    "x, x.size()"
   ],
   "metadata": {
    "collapsed": false,
    "ExecuteTime": {
     "end_time": "2024-02-23T15:23:30.254698500Z",
     "start_time": "2024-02-23T15:23:28.987050200Z"
    }
   },
   "id": "dc2422bd37a28926"
  },
  {
   "cell_type": "code",
   "execution_count": 183,
   "outputs": [
    {
     "data": {
      "text/plain": "(tensor([[ 1.,  2.,  3.,  4.,  5.],\n         [ 6.,  7.,  8.,  9., 10.]]),\n torch.Size([2, 5]))"
     },
     "execution_count": 183,
     "metadata": {},
     "output_type": "execute_result"
    }
   ],
   "source": [
    "# add an extra dim\n",
    "x_reshaped = x.reshape(2, 5)\n",
    "x_reshaped, x_reshaped.size()"
   ],
   "metadata": {
    "collapsed": false,
    "ExecuteTime": {
     "end_time": "2024-02-23T15:23:30.254698500Z",
     "start_time": "2024-02-23T15:23:28.998207200Z"
    }
   },
   "id": "9d2cf0a23f1e4b59"
  },
  {
   "cell_type": "code",
   "execution_count": 184,
   "outputs": [
    {
     "data": {
      "text/plain": "(tensor([[ 1.,  2.,  3.,  4.,  5.],\n         [ 6.,  7.,  8.,  9., 10.]]),\n torch.Size([2, 5]))"
     },
     "execution_count": 184,
     "metadata": {},
     "output_type": "execute_result"
    }
   ],
   "source": [
    "# add an extra dim but use view, saving mem \n",
    "z = x.view(2, 5)\n",
    "z, z.size()"
   ],
   "metadata": {
    "collapsed": false,
    "ExecuteTime": {
     "end_time": "2024-02-23T15:23:30.255862200Z",
     "start_time": "2024-02-23T15:23:29.012231500Z"
    }
   },
   "id": "f16f1e7db437775"
  },
  {
   "cell_type": "code",
   "execution_count": 185,
   "outputs": [
    {
     "data": {
      "text/plain": "tensor([[ 1.,  1.,  1.,  1.],\n        [ 2.,  2.,  2.,  2.],\n        [ 3.,  3.,  3.,  3.],\n        [ 4.,  4.,  4.,  4.],\n        [ 5.,  5.,  5.,  5.],\n        [ 6.,  6.,  6.,  6.],\n        [ 7.,  7.,  7.,  7.],\n        [ 8.,  8.,  8.,  8.],\n        [ 9.,  9.,  9.,  9.],\n        [10., 10., 10., 10.]])"
     },
     "execution_count": 185,
     "metadata": {},
     "output_type": "execute_result"
    }
   ],
   "source": [
    "# stack tensors on top of each others\n",
    "x_stacked = t.stack([x, x, x, x],dim=1)\n",
    "x_stacked"
   ],
   "metadata": {
    "collapsed": false,
    "ExecuteTime": {
     "end_time": "2024-02-23T15:23:30.256870Z",
     "start_time": "2024-02-23T15:23:29.025863700Z"
    }
   },
   "id": "33a32f53f85b4765"
  },
  {
   "cell_type": "code",
   "execution_count": 186,
   "outputs": [
    {
     "data": {
      "text/plain": "(tensor([[ 1.,  2.,  3.,  4.,  5.,  6.,  7.,  8.,  9., 10.]]),\n torch.Size([1, 10]))"
     },
     "execution_count": 186,
     "metadata": {},
     "output_type": "execute_result"
    }
   ],
   "source": [
    "x_reshaped = x_reshaped.reshape(1, 10)\n",
    "x_reshaped, x_reshaped.size()"
   ],
   "metadata": {
    "collapsed": false,
    "ExecuteTime": {
     "end_time": "2024-02-23T15:23:30.256870Z",
     "start_time": "2024-02-23T15:23:29.037679500Z"
    }
   },
   "id": "b9aee37ef9ed5efa"
  },
  {
   "cell_type": "code",
   "execution_count": 187,
   "outputs": [
    {
     "data": {
      "text/plain": "(tensor([ 1.,  2.,  3.,  4.,  5.,  6.,  7.,  8.,  9., 10.]), torch.Size([10]))"
     },
     "execution_count": 187,
     "metadata": {},
     "output_type": "execute_result"
    }
   ],
   "source": [
    "# squeeze: remove all 1 dim from target tensor; ex: (1,1,1,9) -> (9)\n",
    "x_reshaped.squeeze(), x_reshaped.squeeze().size()"
   ],
   "metadata": {
    "collapsed": false,
    "ExecuteTime": {
     "end_time": "2024-02-23T15:23:30.270449800Z",
     "start_time": "2024-02-23T15:23:29.048196Z"
    }
   },
   "id": "d17929f8382a286d"
  },
  {
   "cell_type": "code",
   "execution_count": 188,
   "outputs": [
    {
     "name": "stdout",
     "output_type": "stream",
     "text": [
      "tensor([ 1.,  2.,  3.,  4.,  5.,  6.,  7.,  8.,  9., 10.]) torch.Size([10])\n",
      "tensor([[ 1.,  2.,  3.,  4.,  5.,  6.,  7.,  8.,  9., 10.]]) torch.Size([1, 10])\n"
     ]
    }
   ],
   "source": [
    "x_squeeze = x_reshaped.squeeze()\n",
    "print(x_squeeze, x_squeeze.size())\n",
    "\n",
    "x_unsqueeze = x_squeeze.unsqueeze(dim=0)\n",
    "print(x_unsqueeze, x_unsqueeze.size())"
   ],
   "metadata": {
    "collapsed": false,
    "ExecuteTime": {
     "end_time": "2024-02-23T15:23:30.272058200Z",
     "start_time": "2024-02-23T15:23:29.058490600Z"
    }
   },
   "id": "3c0e761d5fa1d5e3"
  },
  {
   "cell_type": "code",
   "execution_count": 201,
   "outputs": [
    {
     "data": {
      "text/plain": "torch.Size([3, 224, 224])"
     },
     "execution_count": 201,
     "metadata": {},
     "output_type": "execute_result"
    }
   ],
   "source": [
    "t.manual_seed(23)\n",
    "\n",
    "# permute: re-arrange the dimension of target tensor in a specific order\n",
    "x_original = t.rand((224, 224, 3 )) # [height, width, colour channels]\n",
    "\n",
    "# permute the original tensor to rearrange the axis (or dim) order \n",
    "\n",
    "x_permuted = x_original.permute(2, 0, 1) # shift axis \n",
    "x_permuted.size() # [colour channels, height, width]"
   ],
   "metadata": {
    "collapsed": false,
    "ExecuteTime": {
     "end_time": "2024-02-23T15:24:14.559526500Z",
     "start_time": "2024-02-23T15:24:14.544080500Z"
    }
   },
   "id": "158b0a13a9e5bbc7"
  }
 ],
 "metadata": {
  "kernelspec": {
   "display_name": "Python 3",
   "language": "python",
   "name": "python3"
  },
  "language_info": {
   "codemirror_mode": {
    "name": "ipython",
    "version": 2
   },
   "file_extension": ".py",
   "mimetype": "text/x-python",
   "name": "python",
   "nbconvert_exporter": "python",
   "pygments_lexer": "ipython2",
   "version": "2.7.6"
  }
 },
 "nbformat": 4,
 "nbformat_minor": 5
}
